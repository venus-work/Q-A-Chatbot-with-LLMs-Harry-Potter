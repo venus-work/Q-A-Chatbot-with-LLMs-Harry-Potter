{
  "metadata": {
    "kernelspec": {
      "language": "python",
      "display_name": "Python 3",
      "name": "python3"
    },
    "language_info": {
      "name": "python",
      "version": "3.10.10",
      "mimetype": "text/x-python",
      "codemirror_mode": {
        "name": "ipython",
        "version": 3
      },
      "pygments_lexer": "ipython3",
      "nbconvert_exporter": "python",
      "file_extension": ".py"
    },
    "kaggle": {
      "accelerator": "nvidiaTeslaT4",
      "dataSources": [
        {
          "sourceId": 5793551,
          "sourceType": "datasetVersion",
          "datasetId": 3327967
        },
        {
          "sourceId": 6269639,
          "sourceType": "datasetVersion",
          "datasetId": 3603259
        },
        {
          "sourceId": 6369513,
          "sourceType": "datasetVersion",
          "datasetId": 3669776
        }
      ],
      "dockerImageVersionId": 30498,
      "isInternetEnabled": true,
      "language": "python",
      "sourceType": "notebook",
      "isGpuEnabled": true
    },
    "colab": {
      "provenance": []
    }
  },
  "nbformat_minor": 0,
  "nbformat": 4,
  "cells": [
    {
      "cell_type": "markdown",
      "source": [
        "# About\n",
        "\n",
        "- Use [Langchain](https://python.langchain.com/en/latest/index.html) to build a chatbot that can answer questions about [Harry Potter books](https://www.kaggle.com/datasets/hinepo/harry-potter-books-in-pdf-1-7)\n",
        "- Experiment with various LLMs (Large Language Models)\n",
        "- Use [FAISS vector store](https://python.langchain.com/docs/integrations/vectorstores/faiss) to store text embeddings with [Sentence Transformers](https://huggingface.co/sentence-transformers/all-MiniLM-L6-v2) from [Hugging Face](https://huggingface.co/hkunlp/instructor-large). FAISS runs on GPU and it is much faster than Chroma\n",
        "- Use [Retrieval chain](https://python.langchain.com/docs/modules/data_connection/retrievers/) to retrieve relevant passages from embedded text\n",
        "- Summarize retrieved passages\n",
        "- Leverage Kaggle dual GPU (2 * T4) with [Hugging Face Accelerate](https://huggingface.co/docs/accelerate/index)\n",
        "- Chat UI with [Gradio](https://www.gradio.app/guides/quickstart)\n",
        "\n",
        "### Models\n",
        "\n",
        "- [WizardLM](https://huggingface.co/TheBloke/wizardLM-7B-HF)\n",
        "- [Falcon](https://huggingface.co/h2oai/h2ogpt-gm-oasst1-en-2048-falcon-7b-v2)\n",
        "- [Llama 2-7b](https://huggingface.co/daryl149/llama-2-7b-chat-hf)\n",
        "- [Llama 2-13b](https://huggingface.co/daryl149/llama-2-13b-chat-hf)\n",
        "- [Bloom](https://huggingface.co/bigscience/bloom-7b1)"
      ],
      "metadata": {
        "id": "lVAGZR-UJQbz"
      }
    },
    {
      "cell_type": "code",
      "execution_count": null,
      "metadata": {
        "colab": {
          "base_uri": "https://localhost:8080/",
          "height": 342
        },
        "id": "nHqphh1PHd77",
        "outputId": "de0b5bcd-3ac0-44f6-b92f-7b3845cfe8a9"
      },
      "outputs": [
        {
          "output_type": "display_data",
          "data": {
            "text/plain": [
              "<IPython.core.display.HTML object>"
            ],
            "text/html": [
              "\n",
              "     <input type=\"file\" id=\"files-ea5bffd6-c0e6-4d5a-8c9c-94cb5fdc9774\" name=\"files[]\" multiple disabled\n",
              "        style=\"border:none\" />\n",
              "     <output id=\"result-ea5bffd6-c0e6-4d5a-8c9c-94cb5fdc9774\">\n",
              "      Upload widget is only available when the cell has been executed in the\n",
              "      current browser session. Please rerun this cell to enable.\n",
              "      </output>\n",
              "      <script>// Copyright 2017 Google LLC\n",
              "//\n",
              "// Licensed under the Apache License, Version 2.0 (the \"License\");\n",
              "// you may not use this file except in compliance with the License.\n",
              "// You may obtain a copy of the License at\n",
              "//\n",
              "//      http://www.apache.org/licenses/LICENSE-2.0\n",
              "//\n",
              "// Unless required by applicable law or agreed to in writing, software\n",
              "// distributed under the License is distributed on an \"AS IS\" BASIS,\n",
              "// WITHOUT WARRANTIES OR CONDITIONS OF ANY KIND, either express or implied.\n",
              "// See the License for the specific language governing permissions and\n",
              "// limitations under the License.\n",
              "\n",
              "/**\n",
              " * @fileoverview Helpers for google.colab Python module.\n",
              " */\n",
              "(function(scope) {\n",
              "function span(text, styleAttributes = {}) {\n",
              "  const element = document.createElement('span');\n",
              "  element.textContent = text;\n",
              "  for (const key of Object.keys(styleAttributes)) {\n",
              "    element.style[key] = styleAttributes[key];\n",
              "  }\n",
              "  return element;\n",
              "}\n",
              "\n",
              "// Max number of bytes which will be uploaded at a time.\n",
              "const MAX_PAYLOAD_SIZE = 100 * 1024;\n",
              "\n",
              "function _uploadFiles(inputId, outputId) {\n",
              "  const steps = uploadFilesStep(inputId, outputId);\n",
              "  const outputElement = document.getElementById(outputId);\n",
              "  // Cache steps on the outputElement to make it available for the next call\n",
              "  // to uploadFilesContinue from Python.\n",
              "  outputElement.steps = steps;\n",
              "\n",
              "  return _uploadFilesContinue(outputId);\n",
              "}\n",
              "\n",
              "// This is roughly an async generator (not supported in the browser yet),\n",
              "// where there are multiple asynchronous steps and the Python side is going\n",
              "// to poll for completion of each step.\n",
              "// This uses a Promise to block the python side on completion of each step,\n",
              "// then passes the result of the previous step as the input to the next step.\n",
              "function _uploadFilesContinue(outputId) {\n",
              "  const outputElement = document.getElementById(outputId);\n",
              "  const steps = outputElement.steps;\n",
              "\n",
              "  const next = steps.next(outputElement.lastPromiseValue);\n",
              "  return Promise.resolve(next.value.promise).then((value) => {\n",
              "    // Cache the last promise value to make it available to the next\n",
              "    // step of the generator.\n",
              "    outputElement.lastPromiseValue = value;\n",
              "    return next.value.response;\n",
              "  });\n",
              "}\n",
              "\n",
              "/**\n",
              " * Generator function which is called between each async step of the upload\n",
              " * process.\n",
              " * @param {string} inputId Element ID of the input file picker element.\n",
              " * @param {string} outputId Element ID of the output display.\n",
              " * @return {!Iterable<!Object>} Iterable of next steps.\n",
              " */\n",
              "function* uploadFilesStep(inputId, outputId) {\n",
              "  const inputElement = document.getElementById(inputId);\n",
              "  inputElement.disabled = false;\n",
              "\n",
              "  const outputElement = document.getElementById(outputId);\n",
              "  outputElement.innerHTML = '';\n",
              "\n",
              "  const pickedPromise = new Promise((resolve) => {\n",
              "    inputElement.addEventListener('change', (e) => {\n",
              "      resolve(e.target.files);\n",
              "    });\n",
              "  });\n",
              "\n",
              "  const cancel = document.createElement('button');\n",
              "  inputElement.parentElement.appendChild(cancel);\n",
              "  cancel.textContent = 'Cancel upload';\n",
              "  const cancelPromise = new Promise((resolve) => {\n",
              "    cancel.onclick = () => {\n",
              "      resolve(null);\n",
              "    };\n",
              "  });\n",
              "\n",
              "  // Wait for the user to pick the files.\n",
              "  const files = yield {\n",
              "    promise: Promise.race([pickedPromise, cancelPromise]),\n",
              "    response: {\n",
              "      action: 'starting',\n",
              "    }\n",
              "  };\n",
              "\n",
              "  cancel.remove();\n",
              "\n",
              "  // Disable the input element since further picks are not allowed.\n",
              "  inputElement.disabled = true;\n",
              "\n",
              "  if (!files) {\n",
              "    return {\n",
              "      response: {\n",
              "        action: 'complete',\n",
              "      }\n",
              "    };\n",
              "  }\n",
              "\n",
              "  for (const file of files) {\n",
              "    const li = document.createElement('li');\n",
              "    li.append(span(file.name, {fontWeight: 'bold'}));\n",
              "    li.append(span(\n",
              "        `(${file.type || 'n/a'}) - ${file.size} bytes, ` +\n",
              "        `last modified: ${\n",
              "            file.lastModifiedDate ? file.lastModifiedDate.toLocaleDateString() :\n",
              "                                    'n/a'} - `));\n",
              "    const percent = span('0% done');\n",
              "    li.appendChild(percent);\n",
              "\n",
              "    outputElement.appendChild(li);\n",
              "\n",
              "    const fileDataPromise = new Promise((resolve) => {\n",
              "      const reader = new FileReader();\n",
              "      reader.onload = (e) => {\n",
              "        resolve(e.target.result);\n",
              "      };\n",
              "      reader.readAsArrayBuffer(file);\n",
              "    });\n",
              "    // Wait for the data to be ready.\n",
              "    let fileData = yield {\n",
              "      promise: fileDataPromise,\n",
              "      response: {\n",
              "        action: 'continue',\n",
              "      }\n",
              "    };\n",
              "\n",
              "    // Use a chunked sending to avoid message size limits. See b/62115660.\n",
              "    let position = 0;\n",
              "    do {\n",
              "      const length = Math.min(fileData.byteLength - position, MAX_PAYLOAD_SIZE);\n",
              "      const chunk = new Uint8Array(fileData, position, length);\n",
              "      position += length;\n",
              "\n",
              "      const base64 = btoa(String.fromCharCode.apply(null, chunk));\n",
              "      yield {\n",
              "        response: {\n",
              "          action: 'append',\n",
              "          file: file.name,\n",
              "          data: base64,\n",
              "        },\n",
              "      };\n",
              "\n",
              "      let percentDone = fileData.byteLength === 0 ?\n",
              "          100 :\n",
              "          Math.round((position / fileData.byteLength) * 100);\n",
              "      percent.textContent = `${percentDone}% done`;\n",
              "\n",
              "    } while (position < fileData.byteLength);\n",
              "  }\n",
              "\n",
              "  // All done.\n",
              "  yield {\n",
              "    response: {\n",
              "      action: 'complete',\n",
              "    }\n",
              "  };\n",
              "}\n",
              "\n",
              "scope.google = scope.google || {};\n",
              "scope.google.colab = scope.google.colab || {};\n",
              "scope.google.colab._files = {\n",
              "  _uploadFiles,\n",
              "  _uploadFilesContinue,\n",
              "};\n",
              "})(self);\n",
              "</script> "
            ]
          },
          "metadata": {}
        },
        {
          "output_type": "error",
          "ename": "KeyboardInterrupt",
          "evalue": "",
          "traceback": [
            "\u001b[0;31m---------------------------------------------------------------------------\u001b[0m",
            "\u001b[0;31mKeyboardInterrupt\u001b[0m                         Traceback (most recent call last)",
            "\u001b[0;32m<ipython-input-1-3acfb23811dc>\u001b[0m in \u001b[0;36m<cell line: 4>\u001b[0;34m()\u001b[0m\n\u001b[1;32m      2\u001b[0m \u001b[0;31m# from the Kaggle account settings page.\u001b[0m\u001b[0;34m\u001b[0m\u001b[0;34m\u001b[0m\u001b[0m\n\u001b[1;32m      3\u001b[0m \u001b[0;32mfrom\u001b[0m \u001b[0mgoogle\u001b[0m\u001b[0;34m.\u001b[0m\u001b[0mcolab\u001b[0m \u001b[0;32mimport\u001b[0m \u001b[0mfiles\u001b[0m\u001b[0;34m\u001b[0m\u001b[0;34m\u001b[0m\u001b[0m\n\u001b[0;32m----> 4\u001b[0;31m \u001b[0mfiles\u001b[0m\u001b[0;34m.\u001b[0m\u001b[0mupload\u001b[0m\u001b[0;34m(\u001b[0m\u001b[0;34m)\u001b[0m\u001b[0;34m\u001b[0m\u001b[0;34m\u001b[0m\u001b[0m\n\u001b[0m",
            "\u001b[0;32m/usr/local/lib/python3.10/dist-packages/google/colab/files.py\u001b[0m in \u001b[0;36mupload\u001b[0;34m()\u001b[0m\n\u001b[1;32m     67\u001b[0m   \"\"\"\n\u001b[1;32m     68\u001b[0m \u001b[0;34m\u001b[0m\u001b[0m\n\u001b[0;32m---> 69\u001b[0;31m   \u001b[0muploaded_files\u001b[0m \u001b[0;34m=\u001b[0m \u001b[0m_upload_files\u001b[0m\u001b[0;34m(\u001b[0m\u001b[0mmultiple\u001b[0m\u001b[0;34m=\u001b[0m\u001b[0;32mTrue\u001b[0m\u001b[0;34m)\u001b[0m\u001b[0;34m\u001b[0m\u001b[0;34m\u001b[0m\u001b[0m\n\u001b[0m\u001b[1;32m     70\u001b[0m   \u001b[0;31m# Mapping from original filename to filename as saved locally.\u001b[0m\u001b[0;34m\u001b[0m\u001b[0;34m\u001b[0m\u001b[0m\n\u001b[1;32m     71\u001b[0m   \u001b[0mlocal_filenames\u001b[0m \u001b[0;34m=\u001b[0m \u001b[0mdict\u001b[0m\u001b[0;34m(\u001b[0m\u001b[0;34m)\u001b[0m\u001b[0;34m\u001b[0m\u001b[0;34m\u001b[0m\u001b[0m\n",
            "\u001b[0;32m/usr/local/lib/python3.10/dist-packages/google/colab/files.py\u001b[0m in \u001b[0;36m_upload_files\u001b[0;34m(multiple)\u001b[0m\n\u001b[1;32m    154\u001b[0m \u001b[0;34m\u001b[0m\u001b[0m\n\u001b[1;32m    155\u001b[0m   \u001b[0;31m# First result is always an indication that the file picker has completed.\u001b[0m\u001b[0;34m\u001b[0m\u001b[0;34m\u001b[0m\u001b[0m\n\u001b[0;32m--> 156\u001b[0;31m   result = _output.eval_js(\n\u001b[0m\u001b[1;32m    157\u001b[0m       'google.colab._files._uploadFiles(\"{input_id}\", \"{output_id}\")'.format(\n\u001b[1;32m    158\u001b[0m           \u001b[0minput_id\u001b[0m\u001b[0;34m=\u001b[0m\u001b[0minput_id\u001b[0m\u001b[0;34m,\u001b[0m \u001b[0moutput_id\u001b[0m\u001b[0;34m=\u001b[0m\u001b[0moutput_id\u001b[0m\u001b[0;34m\u001b[0m\u001b[0;34m\u001b[0m\u001b[0m\n",
            "\u001b[0;32m/usr/local/lib/python3.10/dist-packages/google/colab/output/_js.py\u001b[0m in \u001b[0;36meval_js\u001b[0;34m(script, ignore_result, timeout_sec)\u001b[0m\n\u001b[1;32m     38\u001b[0m   \u001b[0;32mif\u001b[0m \u001b[0mignore_result\u001b[0m\u001b[0;34m:\u001b[0m\u001b[0;34m\u001b[0m\u001b[0;34m\u001b[0m\u001b[0m\n\u001b[1;32m     39\u001b[0m     \u001b[0;32mreturn\u001b[0m\u001b[0;34m\u001b[0m\u001b[0;34m\u001b[0m\u001b[0m\n\u001b[0;32m---> 40\u001b[0;31m   \u001b[0;32mreturn\u001b[0m \u001b[0m_message\u001b[0m\u001b[0;34m.\u001b[0m\u001b[0mread_reply_from_input\u001b[0m\u001b[0;34m(\u001b[0m\u001b[0mrequest_id\u001b[0m\u001b[0;34m,\u001b[0m \u001b[0mtimeout_sec\u001b[0m\u001b[0;34m)\u001b[0m\u001b[0;34m\u001b[0m\u001b[0;34m\u001b[0m\u001b[0m\n\u001b[0m\u001b[1;32m     41\u001b[0m \u001b[0;34m\u001b[0m\u001b[0m\n\u001b[1;32m     42\u001b[0m \u001b[0;34m\u001b[0m\u001b[0m\n",
            "\u001b[0;32m/usr/local/lib/python3.10/dist-packages/google/colab/_message.py\u001b[0m in \u001b[0;36mread_reply_from_input\u001b[0;34m(message_id, timeout_sec)\u001b[0m\n\u001b[1;32m     94\u001b[0m     \u001b[0mreply\u001b[0m \u001b[0;34m=\u001b[0m \u001b[0m_read_next_input_message\u001b[0m\u001b[0;34m(\u001b[0m\u001b[0;34m)\u001b[0m\u001b[0;34m\u001b[0m\u001b[0;34m\u001b[0m\u001b[0m\n\u001b[1;32m     95\u001b[0m     \u001b[0;32mif\u001b[0m \u001b[0mreply\u001b[0m \u001b[0;34m==\u001b[0m \u001b[0m_NOT_READY\u001b[0m \u001b[0;32mor\u001b[0m \u001b[0;32mnot\u001b[0m \u001b[0misinstance\u001b[0m\u001b[0;34m(\u001b[0m\u001b[0mreply\u001b[0m\u001b[0;34m,\u001b[0m \u001b[0mdict\u001b[0m\u001b[0;34m)\u001b[0m\u001b[0;34m:\u001b[0m\u001b[0;34m\u001b[0m\u001b[0;34m\u001b[0m\u001b[0m\n\u001b[0;32m---> 96\u001b[0;31m       \u001b[0mtime\u001b[0m\u001b[0;34m.\u001b[0m\u001b[0msleep\u001b[0m\u001b[0;34m(\u001b[0m\u001b[0;36m0.025\u001b[0m\u001b[0;34m)\u001b[0m\u001b[0;34m\u001b[0m\u001b[0;34m\u001b[0m\u001b[0m\n\u001b[0m\u001b[1;32m     97\u001b[0m       \u001b[0;32mcontinue\u001b[0m\u001b[0;34m\u001b[0m\u001b[0;34m\u001b[0m\u001b[0m\n\u001b[1;32m     98\u001b[0m     if (\n",
            "\u001b[0;31mKeyboardInterrupt\u001b[0m: "
          ]
        }
      ],
      "source": [
        "# Run this cell and select the kaggle.json file downloaded\n",
        "# from the Kaggle account settings page.\n",
        "from google.colab import files\n",
        "files.upload()"
      ]
    },
    {
      "cell_type": "code",
      "source": [
        "# Let's make sure the kaggle.json file is present.\n",
        "!ls -lha kaggle.json"
      ],
      "metadata": {
        "colab": {
          "base_uri": "https://localhost:8080/"
        },
        "id": "0aDTt5HJH0V-",
        "outputId": "abaf0d8a-b7ce-4755-842c-9eb1599cc09e"
      },
      "execution_count": null,
      "outputs": [
        {
          "output_type": "stream",
          "name": "stdout",
          "text": [
            "-rw-r--r-- 1 root root 64 Jan 21 07:13 kaggle.json\n"
          ]
        }
      ]
    },
    {
      "cell_type": "code",
      "source": [
        "# Next, install the Kaggle API client.\n",
        "!pip install -q kaggle"
      ],
      "metadata": {
        "id": "fI4eIuI_H2Dh"
      },
      "execution_count": null,
      "outputs": []
    },
    {
      "cell_type": "code",
      "source": [
        "# The Kaggle API client expects this file to be in ~/.kaggle,\n",
        "# so move it there.\n",
        "!mkdir -p ~/.kaggle\n",
        "!cp kaggle.json ~/.kaggle/\n",
        "\n",
        "# This permissions change avoids a warning on Kaggle tool startup.\n",
        "!chmod 600 ~/.kaggle/kaggle.json"
      ],
      "metadata": {
        "id": "kR1J6DjNH3Za"
      },
      "execution_count": null,
      "outputs": []
    },
    {
      "cell_type": "code",
      "source": [
        "!kaggle datasets download -d hustzx/llama-2-13b-chat-hf"
      ],
      "metadata": {
        "colab": {
          "base_uri": "https://localhost:8080/"
        },
        "id": "eWfEbLIS3z-p",
        "outputId": "a5eadf26-df9a-41ea-d1d7-55791b8a6a20"
      },
      "execution_count": null,
      "outputs": [
        {
          "output_type": "stream",
          "name": "stdout",
          "text": [
            "Downloading llama-2-13b-chat-hf.zip to /content\n",
            "100% 37.3G/37.3G [19:54<00:00, 36.1MB/s]\n",
            "100% 37.3G/37.3G [19:54<00:00, 33.6MB/s]\n"
          ]
        }
      ]
    },
    {
      "cell_type": "code",
      "source": [
        "!unzip /content/llama-2-13b-chat-hf.zip -d /content/llama-2-13b-chat-hf"
      ],
      "metadata": {
        "colab": {
          "base_uri": "https://localhost:8080/"
        },
        "id": "erFS184R33p5",
        "outputId": "63cd547e-3f19-4c69-95f4-28a86bee6fbf"
      },
      "execution_count": null,
      "outputs": [
        {
          "output_type": "stream",
          "name": "stdout",
          "text": [
            "Archive:  /content/llama-2-13b-chat-hf.zip\n",
            "  inflating: /content/llama-2-13b-chat-hf/LICENSE.txt  \n",
            "  inflating: /content/llama-2-13b-chat-hf/README.md  \n",
            "  inflating: /content/llama-2-13b-chat-hf/Responsible-Use-Guide.pdf  \n",
            "  inflating: /content/llama-2-13b-chat-hf/USE_POLICY.md  \n",
            "  inflating: /content/llama-2-13b-chat-hf/config.json  \n",
            "  inflating: /content/llama-2-13b-chat-hf/generation_config.json  \n",
            "  inflating: /content/llama-2-13b-chat-hf/model-00001-of-00003.safetensors  \n",
            "  inflating: /content/llama-2-13b-chat-hf/model-00002-of-00003.safetensors  \n",
            "  inflating: /content/llama-2-13b-chat-hf/model-00003-of-00003.safetensors  \n",
            "  inflating: /content/llama-2-13b-chat-hf/model.safetensors.index.json  \n",
            "  inflating: /content/llama-2-13b-chat-hf/pytorch_model-00001-of-00003.bin  \n",
            "  inflating: /content/llama-2-13b-chat-hf/pytorch_model-00002-of-00003.bin  \n",
            "  inflating: /content/llama-2-13b-chat-hf/pytorch_model-00003-of-00003.bin  \n",
            "  inflating: /content/llama-2-13b-chat-hf/pytorch_model.bin.index.json  \n",
            "  inflating: /content/llama-2-13b-chat-hf/special_tokens_map.json  \n",
            "  inflating: /content/llama-2-13b-chat-hf/tokenizer.json  \n",
            "  inflating: /content/llama-2-13b-chat-hf/tokenizer.model  \n",
            "  inflating: /content/llama-2-13b-chat-hf/tokenizer_config.json  \n"
          ]
        }
      ]
    },
    {
      "cell_type": "markdown",
      "source": [
        "![image.png](attachment:cdc462a7-e241-4332-821a-fa369a853128.png)\n",
        "\n",
        "img source: HinePo"
      ],
      "metadata": {
        "id": "ReMtHoGJJQb1"
      }
    },
    {
      "cell_type": "code",
      "source": [
        "! nvidia-smi -L"
      ],
      "metadata": {
        "trusted": true,
        "id": "JXdygOAcJQb1"
      },
      "execution_count": null,
      "outputs": []
    },
    {
      "cell_type": "markdown",
      "source": [
        "# Installs\n",
        "\n",
        "This steps takes\n",
        "- ~16 s on Colab\n",
        "- ~4 min on kaggle"
      ],
      "metadata": {
        "id": "mCJtmC8DJQb2"
      }
    },
    {
      "cell_type": "code",
      "source": [
        "%%time\n",
        "\n",
        "! pip install -qq -U langchain tiktoken pypdf faiss-gpu\n",
        "! pip install -qq -U transformers InstructorEmbedding sentence_transformers\n",
        "! pip install -qq -U accelerate bitsandbytes xformers einops"
      ],
      "metadata": {
        "_kg_hide-output": true,
        "execution": {
          "iopub.status.busy": "2024-01-20T03:40:03.469182Z",
          "iopub.execute_input": "2024-01-20T03:40:03.470115Z",
          "iopub.status.idle": "2024-01-20T03:43:36.980108Z",
          "shell.execute_reply.started": "2024-01-20T03:40:03.470075Z",
          "shell.execute_reply": "2024-01-20T03:43:36.978943Z"
        },
        "trusted": true,
        "id": "KIfFMpQGJQb2",
        "outputId": "36eeea07-a43a-4b51-925f-f3052cdc9e66"
      },
      "execution_count": null,
      "outputs": [
        {
          "name": "stdout",
          "text": "\u001b[31mERROR: pip's dependency resolver does not currently take into account all the packages that are installed. This behaviour is the source of the following dependency conflicts.\ncudf 23.4.1 requires cupy-cuda11x<12.0.0a0,>=9.5.0, which is not installed.\ncuml 23.4.1 requires cupy-cuda11x<12.0.0a0,>=9.5.0, which is not installed.\ndask-cudf 23.4.1 requires cupy-cuda11x<12.0.0a0,>=9.5.0, which is not installed.\ncudf 23.4.1 requires protobuf<4.22,>=4.21.6, but you have protobuf 3.20.3 which is incompatible.\ncuml 23.4.1 requires dask==2023.3.2, but you have dask 2023.5.0 which is incompatible.\ndask-cuda 23.4.0 requires dask==2023.3.2, but you have dask 2023.5.0 which is incompatible.\ndask-cudf 23.4.1 requires dask==2023.3.2, but you have dask 2023.5.0 which is incompatible.\ndistributed 2023.3.2.1 requires dask==2023.3.2, but you have dask 2023.5.0 which is incompatible.\ngoogle-cloud-bigquery 2.34.4 requires packaging<22.0dev,>=14.3, but you have packaging 23.2 which is incompatible.\njupyterlab-lsp 4.1.0 requires jupyter-lsp>=2.0.0, but you have jupyter-lsp 1.5.1 which is incompatible.\nmomepy 0.6.0 requires shapely>=2, but you have shapely 1.8.5.post1 which is incompatible.\npymc3 3.11.5 requires numpy<1.22.2,>=1.15.0, but you have numpy 1.23.5 which is incompatible.\npymc3 3.11.5 requires scipy<1.8.0,>=1.7.3, but you have scipy 1.10.1 which is incompatible.\nraft-dask 23.4.1 requires dask==2023.3.2, but you have dask 2023.5.0 which is incompatible.\nydata-profiling 4.1.2 requires scipy<1.10,>=1.4.1, but you have scipy 1.10.1 which is incompatible.\u001b[0m\u001b[31m\n\u001b[0m\u001b[31mERROR: pip's dependency resolver does not currently take into account all the packages that are installed. This behaviour is the source of the following dependency conflicts.\nfastai 2.7.12 requires torch<2.1,>=1.7, but you have torch 2.1.2 which is incompatible.\ntorchdata 0.6.0 requires torch==2.0.0, but you have torch 2.1.2 which is incompatible.\u001b[0m\u001b[31m\n\u001b[0mCPU times: user 2.91 s, sys: 582 ms, total: 3.49 s\nWall time: 3min 33s\n",
          "output_type": "stream"
        }
      ]
    },
    {
      "cell_type": "markdown",
      "source": [
        "# Imports"
      ],
      "metadata": {
        "id": "lTGMlphkJQb3"
      }
    },
    {
      "cell_type": "code",
      "source": [
        "import warnings\n",
        "warnings.filterwarnings(\"ignore\")\n",
        "\n",
        "import os\n",
        "import glob\n",
        "import textwrap\n",
        "import time\n",
        "\n",
        "import langchain\n",
        "\n",
        "# loaders\n",
        "from langchain.document_loaders import PyPDFLoader\n",
        "from langchain.document_loaders import DirectoryLoader\n",
        "\n",
        "# splits\n",
        "from langchain.text_splitter import RecursiveCharacterTextSplitter\n",
        "\n",
        "# prompts\n",
        "from langchain import PromptTemplate, LLMChain\n",
        "\n",
        "# vector stores\n",
        "from langchain.vectorstores import FAISS\n",
        "\n",
        "# models\n",
        "from langchain.llms import HuggingFacePipeline\n",
        "from InstructorEmbedding import INSTRUCTOR\n",
        "from langchain.embeddings import HuggingFaceInstructEmbeddings\n",
        "\n",
        "# retrievers\n",
        "from langchain.chains import RetrievalQA\n",
        "\n",
        "import torch\n",
        "import transformers\n",
        "from transformers import AutoTokenizer, AutoModelForCausalLM, pipeline\n",
        "\n",
        "print('LangChain:', langchain.__version__)"
      ],
      "metadata": {
        "execution": {
          "iopub.status.busy": "2023-10-06T17:37:29.537845Z",
          "iopub.execute_input": "2023-10-06T17:37:29.538122Z",
          "iopub.status.idle": "2023-10-06T17:37:56.980527Z",
          "shell.execute_reply.started": "2023-10-06T17:37:29.538096Z",
          "shell.execute_reply": "2023-10-06T17:37:56.979611Z"
        },
        "trusted": true,
        "id": "ugiJCZ62JQb3"
      },
      "execution_count": null,
      "outputs": []
    },
    {
      "cell_type": "code",
      "source": [
        "glob.glob('/kaggle/input/harry-potter-books-in-pdf-1-7/HP books/*')"
      ],
      "metadata": {
        "execution": {
          "iopub.status.busy": "2023-10-06T17:37:56.982708Z",
          "iopub.execute_input": "2023-10-06T17:37:56.983401Z",
          "iopub.status.idle": "2023-10-06T17:37:57.004754Z",
          "shell.execute_reply.started": "2023-10-06T17:37:56.983368Z",
          "shell.execute_reply": "2023-10-06T17:37:57.003577Z"
        },
        "trusted": true,
        "id": "SBtL1CRRJQb3"
      },
      "execution_count": null,
      "outputs": []
    },
    {
      "cell_type": "markdown",
      "source": [
        "# CFG\n",
        "\n",
        "- CFG class enables easy and organized experimentation"
      ],
      "metadata": {
        "id": "dSOp4-8iJQb3"
      }
    },
    {
      "cell_type": "code",
      "source": [
        "class CFG:\n",
        "    # LLMs\n",
        "    model_name = 'llama2-13b' # wizardlm, bloom, falcon, llama2-7b, llama2-13b\n",
        "    temperature = 0,\n",
        "    top_p = 0.95,\n",
        "    repetition_penalty = 1.15\n",
        "\n",
        "    # splitting\n",
        "    split_chunk_size = 800\n",
        "    split_overlap = 0\n",
        "\n",
        "    # embeddings\n",
        "    embeddings_model_repo = 'sentence-transformers/all-MiniLM-L6-v2'\n",
        "\n",
        "    # similar passages\n",
        "    k = 3\n",
        "\n",
        "    # paths\n",
        "    PDFs_path = '/kaggle/input/harry-potter-books-in-pdf-1-7/HP books/'\n",
        "    Embeddings_path =  '/kaggle/input/faiss-hp-sentence-transformers'\n",
        "    Persist_directory = './harry-potter-vectordb'"
      ],
      "metadata": {
        "execution": {
          "iopub.status.busy": "2023-10-06T17:37:57.005866Z",
          "iopub.execute_input": "2023-10-06T17:37:57.006546Z",
          "iopub.status.idle": "2023-10-06T17:37:57.01168Z",
          "shell.execute_reply.started": "2023-10-06T17:37:57.006517Z",
          "shell.execute_reply": "2023-10-06T17:37:57.010902Z"
        },
        "trusted": true,
        "id": "QtQRwUCoJQb3"
      },
      "execution_count": null,
      "outputs": []
    },
    {
      "cell_type": "markdown",
      "source": [
        "# Define model"
      ],
      "metadata": {
        "id": "cn5iFRCnJQb3"
      }
    },
    {
      "cell_type": "code",
      "source": [
        "def get_model(model = CFG.model_name):\n",
        "\n",
        "    print('\\nDownloading model: ', model, '\\n\\n')\n",
        "\n",
        "    if model == 'wizardlm':\n",
        "        model_repo = 'TheBloke/wizardLM-7B-HF'\n",
        "\n",
        "        tokenizer = AutoTokenizer.from_pretrained(model_repo)\n",
        "\n",
        "        model = AutoModelForCausalLM.from_pretrained(\n",
        "            model_repo,\n",
        "            load_in_4bit=True,\n",
        "            device_map='auto',\n",
        "            torch_dtype=torch.float16,\n",
        "            low_cpu_mem_usage=True\n",
        "        )\n",
        "\n",
        "        max_len = 1024\n",
        "\n",
        "    elif model == 'llama2-7b':\n",
        "        model_repo = 'daryl149/llama-2-7b-chat-hf'\n",
        "\n",
        "        tokenizer = AutoTokenizer.from_pretrained(model_repo, use_fast=True)\n",
        "\n",
        "        model = AutoModelForCausalLM.from_pretrained(\n",
        "            model_repo,\n",
        "            load_in_4bit=True,\n",
        "            device_map='auto',\n",
        "            torch_dtype=torch.float16,\n",
        "            low_cpu_mem_usage=True,\n",
        "            trust_remote_code=True\n",
        "        )\n",
        "\n",
        "        max_len = 2048\n",
        "\n",
        "    elif model == 'llama2-13b':\n",
        "#         model_repo = 'daryl149/llama-2-13b-chat-hf' # from Hugging Face\n",
        "        model_repo = '/kaggle/input/llama-2-13b-chat-hf' # from kaggle dataset\n",
        "\n",
        "        tokenizer = AutoTokenizer.from_pretrained(model_repo, use_fast=True)\n",
        "\n",
        "        model = AutoModelForCausalLM.from_pretrained(\n",
        "            model_repo,\n",
        "            load_in_4bit=True,\n",
        "\n",
        "#             bnb_4bit_quant_type='nf4',  # Normalized float 4\n",
        "#             bnb_4bit_use_double_quant=True,  # Second quantization after the first\n",
        "#             bnb_4bit_compute_dtype=bfloat16,  # Computation type\n",
        "\n",
        "            device_map='auto',\n",
        "            torch_dtype=torch.float16,\n",
        "#             low_cpu_mem_usage=True,\n",
        "            trust_remote_code=True\n",
        "        )\n",
        "\n",
        "        max_len = 8192\n",
        "\n",
        "    elif model == 'bloom':\n",
        "        model_repo = 'bigscience/bloom-7b1'\n",
        "\n",
        "        tokenizer = AutoTokenizer.from_pretrained(model_repo)\n",
        "\n",
        "        model = AutoModelForCausalLM.from_pretrained(\n",
        "            model_repo,\n",
        "            load_in_4bit=True,\n",
        "            device_map='auto',\n",
        "            torch_dtype=torch.float16,\n",
        "            low_cpu_mem_usage=True,\n",
        "        )\n",
        "\n",
        "        max_len = 1024\n",
        "\n",
        "    elif model == 'falcon':\n",
        "        model_repo = 'h2oai/h2ogpt-gm-oasst1-en-2048-falcon-7b-v2'\n",
        "\n",
        "        tokenizer = AutoTokenizer.from_pretrained(model_repo)\n",
        "\n",
        "        model = AutoModelForCausalLM.from_pretrained(\n",
        "            model_repo,\n",
        "            load_in_4bit=True,\n",
        "            device_map='auto',\n",
        "            torch_dtype=torch.float16,\n",
        "            low_cpu_mem_usage=True,\n",
        "            trust_remote_code=True\n",
        "        )\n",
        "\n",
        "        max_len = 1024\n",
        "\n",
        "    else:\n",
        "        print(\"Not implemented model (tokenizer and backbone)\")\n",
        "\n",
        "    return tokenizer, model, max_len"
      ],
      "metadata": {
        "execution": {
          "iopub.status.busy": "2023-10-06T17:37:57.013171Z",
          "iopub.execute_input": "2023-10-06T17:37:57.013779Z",
          "iopub.status.idle": "2023-10-06T17:37:57.023873Z",
          "shell.execute_reply.started": "2023-10-06T17:37:57.013749Z",
          "shell.execute_reply": "2023-10-06T17:37:57.023019Z"
        },
        "trusted": true,
        "id": "1jZwhVYMJQb4"
      },
      "execution_count": null,
      "outputs": []
    },
    {
      "cell_type": "markdown",
      "source": [
        "This steps takes\n",
        "- ~3-9 min on Colab\n",
        "- ~5-8 min on kaggle, sometimes much more, up to 35 min"
      ],
      "metadata": {
        "id": "VwG27FCYJQb4"
      }
    },
    {
      "cell_type": "code",
      "source": [
        "%%time\n",
        "\n",
        "tokenizer, model, max_len = get_model(model = CFG.model_name)"
      ],
      "metadata": {
        "execution": {
          "iopub.status.busy": "2023-10-06T17:37:57.025176Z",
          "iopub.execute_input": "2023-10-06T17:37:57.025473Z",
          "iopub.status.idle": "2023-10-06T17:44:31.366803Z",
          "shell.execute_reply.started": "2023-10-06T17:37:57.025446Z",
          "shell.execute_reply": "2023-10-06T17:44:31.365784Z"
        },
        "trusted": true,
        "id": "yXa2wjWCJQb4"
      },
      "execution_count": null,
      "outputs": []
    },
    {
      "cell_type": "code",
      "source": [
        "model.eval()"
      ],
      "metadata": {
        "execution": {
          "iopub.status.busy": "2023-10-06T17:44:31.368005Z",
          "iopub.execute_input": "2023-10-06T17:44:31.368314Z",
          "iopub.status.idle": "2023-10-06T17:44:31.377865Z",
          "shell.execute_reply.started": "2023-10-06T17:44:31.368284Z",
          "shell.execute_reply": "2023-10-06T17:44:31.376848Z"
        },
        "trusted": true,
        "id": "85aiqwPXJQb4"
      },
      "execution_count": null,
      "outputs": []
    },
    {
      "cell_type": "code",
      "source": [
        "### check how Accelerate split the model across the available devices (GPUs)\n",
        "model.hf_device_map"
      ],
      "metadata": {
        "execution": {
          "iopub.status.busy": "2023-10-06T17:44:31.379212Z",
          "iopub.execute_input": "2023-10-06T17:44:31.379849Z",
          "iopub.status.idle": "2023-10-06T17:44:31.407459Z",
          "shell.execute_reply.started": "2023-10-06T17:44:31.379814Z",
          "shell.execute_reply": "2023-10-06T17:44:31.4065Z"
        },
        "trusted": true,
        "id": "suEpUY52JQb4"
      },
      "execution_count": null,
      "outputs": []
    },
    {
      "cell_type": "markdown",
      "source": [
        "# Pipeline\n",
        "\n",
        "- Hugging Face pipeline"
      ],
      "metadata": {
        "id": "_ntCB3HEJQb4"
      }
    },
    {
      "cell_type": "code",
      "source": [
        "pipe = pipeline(\n",
        "    task = \"text-generation\",\n",
        "    model = model,\n",
        "    tokenizer = tokenizer,\n",
        "    pad_token_id = tokenizer.eos_token_id,\n",
        "    max_length = max_len,\n",
        "    temperature = CFG.temperature,\n",
        "    top_p = CFG.top_p,\n",
        "    repetition_penalty = CFG.repetition_penalty\n",
        ")\n",
        "\n",
        "llm = HuggingFacePipeline(pipeline = pipe)"
      ],
      "metadata": {
        "execution": {
          "iopub.status.busy": "2023-10-06T17:44:31.411326Z",
          "iopub.execute_input": "2023-10-06T17:44:31.411572Z",
          "iopub.status.idle": "2023-10-06T17:44:31.420721Z",
          "shell.execute_reply.started": "2023-10-06T17:44:31.411552Z",
          "shell.execute_reply": "2023-10-06T17:44:31.419938Z"
        },
        "trusted": true,
        "id": "Ao7nbwmvJQb5"
      },
      "execution_count": null,
      "outputs": []
    },
    {
      "cell_type": "code",
      "source": [
        "llm"
      ],
      "metadata": {
        "execution": {
          "iopub.status.busy": "2023-10-06T17:44:31.422163Z",
          "iopub.execute_input": "2023-10-06T17:44:31.422716Z",
          "iopub.status.idle": "2023-10-06T17:44:31.4352Z",
          "shell.execute_reply.started": "2023-10-06T17:44:31.422687Z",
          "shell.execute_reply": "2023-10-06T17:44:31.43419Z"
        },
        "trusted": true,
        "id": "zBDhsIWYJQb5"
      },
      "execution_count": null,
      "outputs": []
    },
    {
      "cell_type": "code",
      "source": [
        "%%time\n",
        "### testing model, not using the harry potter books yet\n",
        "### answer is not necessarily related to harry potter\n",
        "query = \"Give me 5 examples of cool potions and explain what they do\"\n",
        "llm(query)"
      ],
      "metadata": {
        "execution": {
          "iopub.status.busy": "2023-10-06T17:44:31.436301Z",
          "iopub.execute_input": "2023-10-06T17:44:31.437078Z",
          "iopub.status.idle": "2023-10-06T17:45:49.355478Z",
          "shell.execute_reply.started": "2023-10-06T17:44:31.437049Z",
          "shell.execute_reply": "2023-10-06T17:45:49.354564Z"
        },
        "trusted": true,
        "id": "TLxpth88JQb5"
      },
      "execution_count": null,
      "outputs": []
    },
    {
      "cell_type": "markdown",
      "source": [
        "# Langchain\n",
        "\n",
        "- Multiple document retriever with LangChain"
      ],
      "metadata": {
        "id": "mxjxMCI5JQb5"
      }
    },
    {
      "cell_type": "code",
      "source": [
        "CFG.model_name"
      ],
      "metadata": {
        "execution": {
          "iopub.status.busy": "2023-10-06T17:45:49.356701Z",
          "iopub.execute_input": "2023-10-06T17:45:49.35763Z",
          "iopub.status.idle": "2023-10-06T17:45:49.363989Z",
          "shell.execute_reply.started": "2023-10-06T17:45:49.357594Z",
          "shell.execute_reply": "2023-10-06T17:45:49.362933Z"
        },
        "trusted": true,
        "id": "fqrgjTSVJQb5"
      },
      "execution_count": null,
      "outputs": []
    },
    {
      "cell_type": "markdown",
      "source": [
        "# Loader\n",
        "\n",
        "- [Directory loader](https://python.langchain.com/docs/modules/data_connection/document_loaders/file_directory) for multiple files\n",
        "\n",
        "    - load de PDF files\n",
        "    - split into chunks\n",
        "    - create embeddings\n",
        "    - save the embeddings in a vector store\n",
        "    - After that, load the saved embeddings to do similarity search with the user query, and then use the LLM to answer the question"
      ],
      "metadata": {
        "id": "oxMxv9UUJQb5"
      }
    },
    {
      "cell_type": "code",
      "source": [
        "%%time\n",
        "\n",
        "loader = DirectoryLoader(\n",
        "    CFG.PDFs_path,\n",
        "    glob=\"./*.pdf\",\n",
        "    loader_cls=PyPDFLoader,\n",
        "    show_progress=True,\n",
        "    use_multithreading=True\n",
        ")\n",
        "\n",
        "documents = loader.load()"
      ],
      "metadata": {
        "execution": {
          "iopub.status.busy": "2023-10-06T17:45:49.365503Z",
          "iopub.execute_input": "2023-10-06T17:45:49.366201Z",
          "iopub.status.idle": "2023-10-06T17:47:04.795868Z",
          "shell.execute_reply.started": "2023-10-06T17:45:49.36617Z",
          "shell.execute_reply": "2023-10-06T17:47:04.794826Z"
        },
        "trusted": true,
        "id": "YlXWQ-eYJQb5"
      },
      "execution_count": null,
      "outputs": []
    },
    {
      "cell_type": "code",
      "source": [
        "print(f'We have {len(documents)} pages in total')"
      ],
      "metadata": {
        "id": "Jw6-7vIoJQb5"
      },
      "execution_count": null,
      "outputs": []
    },
    {
      "cell_type": "code",
      "source": [
        "documents[8].page_content"
      ],
      "metadata": {
        "execution": {
          "iopub.status.busy": "2023-10-06T17:47:04.796918Z",
          "iopub.execute_input": "2023-10-06T17:47:04.797283Z",
          "iopub.status.idle": "2023-10-06T17:47:04.803431Z",
          "shell.execute_reply.started": "2023-10-06T17:47:04.79725Z",
          "shell.execute_reply": "2023-10-06T17:47:04.802581Z"
        },
        "trusted": true,
        "id": "oa3iQLBPJQb6"
      },
      "execution_count": null,
      "outputs": []
    },
    {
      "cell_type": "markdown",
      "source": [
        "# Splitter\n",
        "\n",
        "- Splitting the text into chunks so its passages are easily searchable for similarity\n",
        "- This step is also only necessary if you are creating the embeddings\n",
        "- [RecursiveCharacterTextSplitter](https://python.langchain.com/en/latest/reference/modules/document_loaders.html?highlight=RecursiveCharacterTextSplitter#langchain.document_loaders.MWDumpLoader)"
      ],
      "metadata": {
        "id": "6PlM2W6eJQb6"
      }
    },
    {
      "cell_type": "code",
      "source": [
        "text_splitter = RecursiveCharacterTextSplitter(\n",
        "    chunk_size = CFG.split_chunk_size,\n",
        "    chunk_overlap = CFG.split_overlap\n",
        ")\n",
        "\n",
        "texts = text_splitter.split_documents(documents)\n",
        "\n",
        "print(f'We have created {len(texts)} chunks from {len(documents)} pages')"
      ],
      "metadata": {
        "execution": {
          "iopub.status.busy": "2023-10-06T17:47:04.804297Z",
          "iopub.execute_input": "2023-10-06T17:47:04.804873Z",
          "iopub.status.idle": "2023-10-06T17:47:05.14063Z",
          "shell.execute_reply.started": "2023-10-06T17:47:04.804844Z",
          "shell.execute_reply": "2023-10-06T17:47:05.139703Z"
        },
        "trusted": true,
        "id": "-MIy4dQaJQb6"
      },
      "execution_count": null,
      "outputs": []
    },
    {
      "cell_type": "markdown",
      "source": [
        "# Create Embeddings\n",
        "\n",
        "\n",
        "- Embedd and store the texts in a Vector database (FAISS)\n",
        "- [LangChain Vector Stores docs](https://python.langchain.com/docs/modules/data_connection/vectorstores/)\n",
        "- [FAISS - langchain](https://python.langchain.com/docs/integrations/vectorstores/faiss)\n",
        "- [Sentence-BERT: Sentence Embeddings using Siamese BERT-Networks - paper Aug/2019](https://arxiv.org/pdf/1908.10084.pdf)\n",
        "- [This is a nice 4 minutes video about vector stores](https://www.youtube.com/watch?v=dN0lsF2cvm4)\n",
        "- [Chroma - Persist and load the vector database](https://python.langchain.com/en/latest/modules/indexes/vectorstores/examples/chroma.html)\n"
      ],
      "metadata": {
        "id": "XMQ5YuHmJQb6"
      }
    },
    {
      "cell_type": "code",
      "source": [
        "# %%time\n",
        "\n",
        "# ### download embeddings model\n",
        "# embeddings = HuggingFaceInstructEmbeddings(\n",
        "#     model_name = CFG.embeddings_model_repo,\n",
        "#     model_kwargs = {\"device\": \"cuda\"}\n",
        "# )\n",
        "\n",
        "# ### create embeddings and DB\n",
        "# vectordb = FAISS.from_documents(\n",
        "#     documents = texts,\n",
        "#     embedding = embeddings\n",
        "# )\n",
        "\n",
        "# ### persist vector database\n",
        "# vectordb.save_local(\"faiss_index_hp\")"
      ],
      "metadata": {
        "execution": {
          "iopub.status.busy": "2023-10-06T17:47:05.142043Z",
          "iopub.execute_input": "2023-10-06T17:47:05.14295Z",
          "iopub.status.idle": "2023-10-06T17:47:05.14734Z",
          "shell.execute_reply.started": "2023-10-06T17:47:05.142916Z",
          "shell.execute_reply": "2023-10-06T17:47:05.146347Z"
        },
        "trusted": true,
        "id": "MrcZF0cpJQb6"
      },
      "execution_count": null,
      "outputs": []
    },
    {
      "cell_type": "markdown",
      "source": [
        "# Load vector database\n",
        "\n",
        "- After saving the vector database, we just load it from the Kaggle Dataset I mentioned\n",
        "- Obviously, the embeddings function to load the embeddings must be the same as the one used to create the embeddings"
      ],
      "metadata": {
        "id": "4NWzXjfcJQb6"
      }
    },
    {
      "cell_type": "code",
      "source": [
        "%%time\n",
        "\n",
        "### download embeddings model\n",
        "embeddings = HuggingFaceInstructEmbeddings(\n",
        "    model_name = CFG.embeddings_model_repo,\n",
        "    model_kwargs = {\"device\": \"cuda\"}\n",
        ")\n",
        "\n",
        "### load vector DB embeddings\n",
        "vectordb = FAISS.load_local(\n",
        "    CFG.Embeddings_path,\n",
        "    embeddings\n",
        ")"
      ],
      "metadata": {
        "execution": {
          "iopub.status.busy": "2023-10-06T17:47:05.148579Z",
          "iopub.execute_input": "2023-10-06T17:47:05.149373Z",
          "iopub.status.idle": "2023-10-06T17:47:09.566663Z",
          "shell.execute_reply.started": "2023-10-06T17:47:05.149343Z",
          "shell.execute_reply": "2023-10-06T17:47:09.565719Z"
        },
        "trusted": true,
        "id": "rY6BHj6LJQb6"
      },
      "execution_count": null,
      "outputs": []
    },
    {
      "cell_type": "code",
      "source": [
        "### test if vector DB was loaded correctly\n",
        "vectordb.similarity_search('magic creatures')"
      ],
      "metadata": {
        "execution": {
          "iopub.status.busy": "2023-10-06T17:47:09.567997Z",
          "iopub.execute_input": "2023-10-06T17:47:09.568336Z",
          "iopub.status.idle": "2023-10-06T17:47:10.329803Z",
          "shell.execute_reply.started": "2023-10-06T17:47:09.568304Z",
          "shell.execute_reply": "2023-10-06T17:47:10.328848Z"
        },
        "trusted": true,
        "id": "P9gq1vC0JQb6"
      },
      "execution_count": null,
      "outputs": []
    },
    {
      "cell_type": "markdown",
      "source": [
        "# Prompt Template\n",
        "\n",
        "- Custom prompt"
      ],
      "metadata": {
        "id": "lA3iYxkDJQb7"
      }
    },
    {
      "cell_type": "code",
      "source": [
        "prompt_template = \"\"\"\n",
        "Don't try to make up an answer, if you don't know just say that you don't know.\n",
        "Answer in the same language the question was asked.\n",
        "Use only the following pieces of context to answer the question at the end.\n",
        "\n",
        "{context}\n",
        "\n",
        "Question: {question}\n",
        "Answer:\"\"\"\n",
        "\n",
        "\n",
        "PROMPT = PromptTemplate(\n",
        "    template = prompt_template,\n",
        "    input_variables = [\"context\", \"question\"]\n",
        ")"
      ],
      "metadata": {
        "execution": {
          "iopub.status.busy": "2023-10-06T17:47:10.331058Z",
          "iopub.execute_input": "2023-10-06T17:47:10.331407Z",
          "iopub.status.idle": "2023-10-06T17:47:10.336925Z",
          "shell.execute_reply.started": "2023-10-06T17:47:10.331374Z",
          "shell.execute_reply": "2023-10-06T17:47:10.335916Z"
        },
        "trusted": true,
        "id": "BSi6IIeaJQb7"
      },
      "execution_count": null,
      "outputs": []
    },
    {
      "cell_type": "code",
      "source": [
        "# llm_chain = LLMChain(prompt=PROMPT, llm=llm)\n",
        "# llm_chain"
      ],
      "metadata": {
        "execution": {
          "iopub.status.busy": "2023-10-06T17:47:10.339187Z",
          "iopub.execute_input": "2023-10-06T17:47:10.340133Z",
          "iopub.status.idle": "2023-10-06T17:47:10.554708Z",
          "shell.execute_reply.started": "2023-10-06T17:47:10.3401Z",
          "shell.execute_reply": "2023-10-06T17:47:10.553898Z"
        },
        "trusted": true,
        "id": "eQFjNJ6mJQb7"
      },
      "execution_count": null,
      "outputs": []
    },
    {
      "cell_type": "markdown",
      "source": [
        "# Retriever chain\n",
        "\n",
        "- Retriever to retrieve relevant passages\n",
        "- Chain to answer questions\n",
        "- [RetrievalQA: Chain for question-answering](https://python.langchain.com/docs/modules/data_connection/retrievers/)"
      ],
      "metadata": {
        "id": "H2DZLYaPJQb7"
      }
    },
    {
      "cell_type": "code",
      "source": [
        "retriever = vectordb.as_retriever(search_kwargs = {\"k\": CFG.k, \"search_type\" : \"similarity\"})\n",
        "\n",
        "qa_chain = RetrievalQA.from_chain_type(\n",
        "    llm = llm,\n",
        "    chain_type = \"stuff\", # map_reduce, map_rerank, stuff, refine\n",
        "    retriever = retriever,\n",
        "    chain_type_kwargs = {\"prompt\": PROMPT},\n",
        "    return_source_documents = True,\n",
        "    verbose = False\n",
        ")"
      ],
      "metadata": {
        "execution": {
          "iopub.status.busy": "2023-10-06T17:47:10.555923Z",
          "iopub.execute_input": "2023-10-06T17:47:10.557073Z",
          "iopub.status.idle": "2023-10-06T17:47:10.566885Z",
          "shell.execute_reply.started": "2023-10-06T17:47:10.557043Z",
          "shell.execute_reply": "2023-10-06T17:47:10.566063Z"
        },
        "trusted": true,
        "id": "Y3OFfTgRJQb7"
      },
      "execution_count": null,
      "outputs": []
    },
    {
      "cell_type": "code",
      "source": [
        "### testing MMR search\n",
        "question = \"Which are Hagrid's favorite animals?\"\n",
        "vectordb.max_marginal_relevance_search(question, k = CFG.k)"
      ],
      "metadata": {
        "execution": {
          "iopub.status.busy": "2023-10-06T17:47:10.568156Z",
          "iopub.execute_input": "2023-10-06T17:47:10.568693Z",
          "iopub.status.idle": "2023-10-06T17:47:10.672137Z",
          "shell.execute_reply.started": "2023-10-06T17:47:10.568664Z",
          "shell.execute_reply": "2023-10-06T17:47:10.671291Z"
        },
        "trusted": true,
        "id": "cD3Kks2LJQb7"
      },
      "execution_count": null,
      "outputs": []
    },
    {
      "cell_type": "code",
      "source": [
        "### testing similarity search\n",
        "question = \"Which are Hagrid's favorite animals?\"\n",
        "vectordb.similarity_search(question, k = CFG.k)"
      ],
      "metadata": {
        "execution": {
          "iopub.status.busy": "2023-10-06T17:47:10.673218Z",
          "iopub.execute_input": "2023-10-06T17:47:10.673739Z",
          "iopub.status.idle": "2023-10-06T17:47:10.69586Z",
          "shell.execute_reply.started": "2023-10-06T17:47:10.673709Z",
          "shell.execute_reply": "2023-10-06T17:47:10.695024Z"
        },
        "trusted": true,
        "id": "VHDxVhbbJQb_"
      },
      "execution_count": null,
      "outputs": []
    },
    {
      "cell_type": "markdown",
      "source": [
        "# Post-process outputs\n",
        "\n",
        "- Format llm response\n",
        "- Cite sources (PDFs)\n",
        "- Change `width` parameter to format the output"
      ],
      "metadata": {
        "id": "cvgJIDuUJQb_"
      }
    },
    {
      "cell_type": "code",
      "source": [
        "def wrap_text_preserve_newlines(text, width=700):\n",
        "    # Split the input text into lines based on newline characters\n",
        "    lines = text.split('\\n')\n",
        "\n",
        "    # Wrap each line individually\n",
        "    wrapped_lines = [textwrap.fill(line, width=width) for line in lines]\n",
        "\n",
        "    # Join the wrapped lines back together using newline characters\n",
        "    wrapped_text = '\\n'.join(wrapped_lines)\n",
        "\n",
        "    return wrapped_text\n",
        "\n",
        "\n",
        "def process_llm_response(llm_response):\n",
        "    ans = wrap_text_preserve_newlines(llm_response['result'])\n",
        "\n",
        "    sources_used = ' \\n'.join(\n",
        "        [\n",
        "            source.metadata['source'].split('/')[-1][:-4] + ' - page: ' + str(source.metadata['page'])\n",
        "            for source in llm_response['source_documents']\n",
        "        ]\n",
        "    )\n",
        "\n",
        "    ans = ans + '\\n\\nSources: \\n' + sources_used\n",
        "    return ans"
      ],
      "metadata": {
        "execution": {
          "iopub.status.busy": "2023-10-06T17:47:10.696917Z",
          "iopub.execute_input": "2023-10-06T17:47:10.697419Z",
          "iopub.status.idle": "2023-10-06T17:47:10.704446Z",
          "shell.execute_reply.started": "2023-10-06T17:47:10.697389Z",
          "shell.execute_reply": "2023-10-06T17:47:10.703692Z"
        },
        "trusted": true,
        "id": "9TlfqRb3JQcA"
      },
      "execution_count": null,
      "outputs": []
    },
    {
      "cell_type": "code",
      "source": [
        "def llm_ans(query):\n",
        "    start = time.time()\n",
        "    llm_response = qa_chain(query)\n",
        "    ans = process_llm_response(llm_response)\n",
        "    end = time.time()\n",
        "\n",
        "    time_elapsed = int(round(end - start, 0))\n",
        "    time_elapsed_str = f'\\n\\nTime elapsed: {time_elapsed} s'\n",
        "    return ans + time_elapsed_str"
      ],
      "metadata": {
        "execution": {
          "iopub.status.busy": "2023-10-06T17:47:10.705804Z",
          "iopub.execute_input": "2023-10-06T17:47:10.706703Z",
          "iopub.status.idle": "2023-10-06T17:47:10.72078Z",
          "shell.execute_reply.started": "2023-10-06T17:47:10.706672Z",
          "shell.execute_reply": "2023-10-06T17:47:10.720013Z"
        },
        "trusted": true,
        "id": "Al0iBZcvJQcA"
      },
      "execution_count": null,
      "outputs": []
    },
    {
      "cell_type": "markdown",
      "source": [
        "# Ask questions\n",
        "\n",
        "- Question Answering from multiple documents\n",
        "- Run QA Chain\n",
        "- Talk to your data"
      ],
      "metadata": {
        "id": "m-92wa48JQcA"
      }
    },
    {
      "cell_type": "code",
      "source": [
        "CFG.model_name"
      ],
      "metadata": {
        "execution": {
          "iopub.status.busy": "2023-10-06T17:47:10.721964Z",
          "iopub.execute_input": "2023-10-06T17:47:10.722541Z",
          "iopub.status.idle": "2023-10-06T17:47:10.736048Z",
          "shell.execute_reply.started": "2023-10-06T17:47:10.722512Z",
          "shell.execute_reply": "2023-10-06T17:47:10.735124Z"
        },
        "trusted": true,
        "id": "1Y7RKYQ0JQcA"
      },
      "execution_count": null,
      "outputs": []
    },
    {
      "cell_type": "code",
      "source": [
        "model"
      ],
      "metadata": {
        "execution": {
          "iopub.status.busy": "2023-10-06T17:47:10.740889Z",
          "iopub.execute_input": "2023-10-06T17:47:10.741277Z",
          "iopub.status.idle": "2023-10-06T17:47:10.749952Z",
          "shell.execute_reply.started": "2023-10-06T17:47:10.741255Z",
          "shell.execute_reply": "2023-10-06T17:47:10.748991Z"
        },
        "trusted": true,
        "id": "6V0lEilNJQcA"
      },
      "execution_count": null,
      "outputs": []
    },
    {
      "cell_type": "code",
      "source": [
        "query = \"Which challenges does Harry face during the Triwizard Tournament?\"\n",
        "print(llm_ans(query))"
      ],
      "metadata": {
        "execution": {
          "iopub.status.busy": "2023-10-06T17:47:10.751259Z",
          "iopub.execute_input": "2023-10-06T17:47:10.751794Z",
          "iopub.status.idle": "2023-10-06T17:47:18.348521Z",
          "shell.execute_reply.started": "2023-10-06T17:47:10.751766Z",
          "shell.execute_reply": "2023-10-06T17:47:18.34747Z"
        },
        "trusted": true,
        "id": "lN78WifGJQcB"
      },
      "execution_count": null,
      "outputs": []
    },
    {
      "cell_type": "code",
      "source": [
        "query = \"Is Malfoy an ally of Voldemort?\"\n",
        "print(llm_ans(query))"
      ],
      "metadata": {
        "execution": {
          "iopub.status.busy": "2023-10-06T17:47:18.350047Z",
          "iopub.execute_input": "2023-10-06T17:47:18.350603Z",
          "iopub.status.idle": "2023-10-06T17:47:41.269252Z",
          "shell.execute_reply.started": "2023-10-06T17:47:18.350569Z",
          "shell.execute_reply": "2023-10-06T17:47:41.268251Z"
        },
        "trusted": true,
        "id": "jX0B9rrfJQcB"
      },
      "execution_count": null,
      "outputs": []
    },
    {
      "cell_type": "code",
      "source": [
        "query = \"What are horcrux?\"\n",
        "print(llm_ans(query))"
      ],
      "metadata": {
        "execution": {
          "iopub.status.busy": "2023-10-06T17:47:41.270609Z",
          "iopub.execute_input": "2023-10-06T17:47:41.27169Z",
          "iopub.status.idle": "2023-10-06T17:47:46.602534Z",
          "shell.execute_reply.started": "2023-10-06T17:47:41.271653Z",
          "shell.execute_reply": "2023-10-06T17:47:46.601462Z"
        },
        "trusted": true,
        "id": "a2GQ8_ULJQcB"
      },
      "execution_count": null,
      "outputs": []
    },
    {
      "cell_type": "code",
      "source": [
        "query = \"Give me 5 examples of cool potions and explain what they do\"\n",
        "print(llm_ans(query))"
      ],
      "metadata": {
        "execution": {
          "iopub.status.busy": "2023-10-06T17:47:46.604003Z",
          "iopub.execute_input": "2023-10-06T17:47:46.604316Z",
          "iopub.status.idle": "2023-10-06T17:48:09.762704Z",
          "shell.execute_reply.started": "2023-10-06T17:47:46.604284Z",
          "shell.execute_reply": "2023-10-06T17:48:09.761699Z"
        },
        "trusted": true,
        "id": "zNFj07xuJQcC"
      },
      "execution_count": null,
      "outputs": []
    },
    {
      "cell_type": "markdown",
      "source": [
        "# Gradio Chat UI\n",
        "\n",
        "- Create a chat UI with [Gradio](https://www.gradio.app/guides/quickstart)\n",
        "- [ChatInterface docs](https://www.gradio.app/docs/chatinterface)\n",
        "- The notebook should be running if you want to use the chat interface\n",
        "- Print of the chat UI below\n",
        "- **Gradio has better compatibility with Colab than with Kaggle. If you plan to use the interface, it is preferable to do so in Google Colab**"
      ],
      "metadata": {
        "id": "dIK4ylNGJQcC"
      }
    },
    {
      "cell_type": "code",
      "source": [
        "### necessary for google colab\n",
        "import locale\n",
        "locale.getpreferredencoding = lambda: \"UTF-8\""
      ],
      "metadata": {
        "execution": {
          "iopub.status.busy": "2023-10-06T17:48:09.763947Z",
          "iopub.execute_input": "2023-10-06T17:48:09.764817Z",
          "iopub.status.idle": "2023-10-06T17:48:09.769841Z",
          "shell.execute_reply.started": "2023-10-06T17:48:09.764783Z",
          "shell.execute_reply": "2023-10-06T17:48:09.768831Z"
        },
        "trusted": true,
        "id": "AJ-163wuJQcC"
      },
      "execution_count": null,
      "outputs": []
    },
    {
      "cell_type": "code",
      "source": [
        "! pip install --upgrade gradio -qq"
      ],
      "metadata": {
        "execution": {
          "iopub.status.busy": "2023-10-06T17:48:09.771048Z",
          "iopub.execute_input": "2023-10-06T17:48:09.771819Z",
          "iopub.status.idle": "2023-10-06T17:48:26.889989Z",
          "shell.execute_reply.started": "2023-10-06T17:48:09.771789Z",
          "shell.execute_reply": "2023-10-06T17:48:26.888736Z"
        },
        "trusted": true,
        "colab": {
          "base_uri": "https://localhost:8080/"
        },
        "id": "bH7vhufEJQcC",
        "outputId": "b96df991-f88b-451d-e879-1c03465428d3"
      },
      "execution_count": null,
      "outputs": [
        {
          "output_type": "stream",
          "name": "stdout",
          "text": [
            "\u001b[2K     \u001b[90m━━━━━━━━━━━━━━━━━━━━━━━━━━━━━━━━━━━━━━━━\u001b[0m \u001b[32m16.6/16.6 MB\u001b[0m \u001b[31m33.1 MB/s\u001b[0m eta \u001b[36m0:00:00\u001b[0m\n",
            "\u001b[2K     \u001b[90m━━━━━━━━━━━━━━━━━━━━━━━━━━━━━━━━━━━━━━━━\u001b[0m \u001b[32m92.0/92.0 kB\u001b[0m \u001b[31m10.8 MB/s\u001b[0m eta \u001b[36m0:00:00\u001b[0m\n",
            "\u001b[?25h  Preparing metadata (setup.py) ... \u001b[?25l\u001b[?25hdone\n",
            "\u001b[2K     \u001b[90m━━━━━━━━━━━━━━━━━━━━━━━━━━━━━━━━━━━━━━━━\u001b[0m \u001b[32m305.2/305.2 kB\u001b[0m \u001b[31m32.7 MB/s\u001b[0m eta \u001b[36m0:00:00\u001b[0m\n",
            "\u001b[2K     \u001b[90m━━━━━━━━━━━━━━━━━━━━━━━━━━━━━━━━━━━━━━━━\u001b[0m \u001b[32m75.9/75.9 kB\u001b[0m \u001b[31m9.8 MB/s\u001b[0m eta \u001b[36m0:00:00\u001b[0m\n",
            "\u001b[2K     \u001b[90m━━━━━━━━━━━━━━━━━━━━━━━━━━━━━━━━━━━━━━━━\u001b[0m \u001b[32m139.8/139.8 kB\u001b[0m \u001b[31m18.8 MB/s\u001b[0m eta \u001b[36m0:00:00\u001b[0m\n",
            "\u001b[2K     \u001b[90m━━━━━━━━━━━━━━━━━━━━━━━━━━━━━━━━━━━━━━━━\u001b[0m \u001b[32m381.9/381.9 kB\u001b[0m \u001b[31m39.9 MB/s\u001b[0m eta \u001b[36m0:00:00\u001b[0m\n",
            "\u001b[2K     \u001b[90m━━━━━━━━━━━━━━━━━━━━━━━━━━━━━━━━━━━━━━━━\u001b[0m \u001b[32m45.7/45.7 kB\u001b[0m \u001b[31m6.6 MB/s\u001b[0m eta \u001b[36m0:00:00\u001b[0m\n",
            "\u001b[2K     \u001b[90m━━━━━━━━━━━━━━━━━━━━━━━━━━━━━━━━━━━━━━━━\u001b[0m \u001b[32m7.5/7.5 MB\u001b[0m \u001b[31m50.5 MB/s\u001b[0m eta \u001b[36m0:00:00\u001b[0m\n",
            "\u001b[2K     \u001b[90m━━━━━━━━━━━━━━━━━━━━━━━━━━━━━━━━━━━━━━━━\u001b[0m \u001b[32m60.5/60.5 kB\u001b[0m \u001b[31m8.0 MB/s\u001b[0m eta \u001b[36m0:00:00\u001b[0m\n",
            "\u001b[2K     \u001b[90m━━━━━━━━━━━━━━━━━━━━━━━━━━━━━━━━━━━━━━━━\u001b[0m \u001b[32m129.9/129.9 kB\u001b[0m \u001b[31m16.6 MB/s\u001b[0m eta \u001b[36m0:00:00\u001b[0m\n",
            "\u001b[2K     \u001b[90m━━━━━━━━━━━━━━━━━━━━━━━━━━━━━━━━━━━━━━━━\u001b[0m \u001b[32m2.1/2.1 MB\u001b[0m \u001b[31m46.8 MB/s\u001b[0m eta \u001b[36m0:00:00\u001b[0m\n",
            "\u001b[2K     \u001b[90m━━━━━━━━━━━━━━━━━━━━━━━━━━━━━━━━━━━━━━━━\u001b[0m \u001b[32m58.3/58.3 kB\u001b[0m \u001b[31m6.5 MB/s\u001b[0m eta \u001b[36m0:00:00\u001b[0m\n",
            "\u001b[2K     \u001b[90m━━━━━━━━━━━━━━━━━━━━━━━━━━━━━━━━━━━━━━━━\u001b[0m \u001b[32m71.1/71.1 kB\u001b[0m \u001b[31m8.7 MB/s\u001b[0m eta \u001b[36m0:00:00\u001b[0m\n",
            "\u001b[2K     \u001b[90m━━━━━━━━━━━━━━━━━━━━━━━━━━━━━━━━━━━━━━━━\u001b[0m \u001b[32m76.9/76.9 kB\u001b[0m \u001b[31m9.5 MB/s\u001b[0m eta \u001b[36m0:00:00\u001b[0m\n",
            "\u001b[?25h  Building wheel for ffmpy (setup.py) ... \u001b[?25l\u001b[?25hdone\n",
            "\u001b[31mERROR: pip's dependency resolver does not currently take into account all the packages that are installed. This behaviour is the source of the following dependency conflicts.\n",
            "lida 0.0.10 requires kaleido, which is not installed.\n",
            "llmx 0.0.15a0 requires cohere, which is not installed.\n",
            "llmx 0.0.15a0 requires openai, which is not installed.\n",
            "llmx 0.0.15a0 requires tiktoken, which is not installed.\n",
            "tensorflow-probability 0.22.0 requires typing-extensions<4.6.0, but you have typing-extensions 4.9.0 which is incompatible.\u001b[0m\u001b[31m\n",
            "\u001b[0m"
          ]
        }
      ]
    },
    {
      "cell_type": "code",
      "source": [
        "!pip install gradio"
      ],
      "metadata": {
        "id": "xPgcBj6MLz_A"
      },
      "execution_count": null,
      "outputs": []
    },
    {
      "cell_type": "code",
      "source": [
        "import gradio as gr\n",
        "print(gr.__version__)"
      ],
      "metadata": {
        "execution": {
          "iopub.status.busy": "2023-10-06T17:48:26.892127Z",
          "iopub.execute_input": "2023-10-06T17:48:26.89252Z",
          "iopub.status.idle": "2023-10-06T17:48:28.899339Z",
          "shell.execute_reply.started": "2023-10-06T17:48:26.892484Z",
          "shell.execute_reply": "2023-10-06T17:48:28.898259Z"
        },
        "trusted": true,
        "colab": {
          "base_uri": "https://localhost:8080/"
        },
        "id": "iSvDiqwrJQcC",
        "outputId": "6fbbb2bd-89ec-482e-f235-4446f1228c1d"
      },
      "execution_count": null,
      "outputs": [
        {
          "output_type": "stream",
          "name": "stdout",
          "text": [
            "4.15.0\n"
          ]
        }
      ]
    },
    {
      "cell_type": "code",
      "source": [
        "    def predict(message, history):\n",
        "        # output = message # debug mode\n",
        "\n",
        "        output = str(llm_ans(message)).replace(\"\\n\", \"<br/>\")\n",
        "        return output\n",
        "\n",
        "    demo = gr.ChatInterface(\n",
        "        predict,\n",
        "        title = f' Open-Source LLM ({CFG.model_name}) for Harry Potter Question Answering'\n",
        "    )\n",
        "\n",
        "    demo.queue()\n",
        "    demo.launch()"
      ],
      "metadata": {
        "execution": {
          "iopub.status.busy": "2023-10-06T17:48:28.900715Z",
          "iopub.execute_input": "2023-10-06T17:48:28.901517Z",
          "iopub.status.idle": "2023-10-06T17:48:41.076496Z",
          "shell.execute_reply.started": "2023-10-06T17:48:28.901482Z",
          "shell.execute_reply": "2023-10-06T17:48:41.075566Z"
        },
        "trusted": true,
        "colab": {
          "base_uri": "https://localhost:8080/",
          "height": 245
        },
        "id": "d-bjvHImJQcC",
        "outputId": "b5108731-79d2-4f94-9202-4e3dda1bdbc8"
      },
      "execution_count": null,
      "outputs": [
        {
          "output_type": "error",
          "ename": "NameError",
          "evalue": "name 'CFG' is not defined",
          "traceback": [
            "\u001b[0;31m---------------------------------------------------------------------------\u001b[0m",
            "\u001b[0;31mNameError\u001b[0m                                 Traceback (most recent call last)",
            "\u001b[0;32m<ipython-input-4-459c9acab8fc>\u001b[0m in \u001b[0;36m<cell line: 7>\u001b[0;34m()\u001b[0m\n\u001b[1;32m      7\u001b[0m demo = gr.ChatInterface(\n\u001b[1;32m      8\u001b[0m     \u001b[0mpredict\u001b[0m\u001b[0;34m,\u001b[0m\u001b[0;34m\u001b[0m\u001b[0;34m\u001b[0m\u001b[0m\n\u001b[0;32m----> 9\u001b[0;31m     \u001b[0mtitle\u001b[0m \u001b[0;34m=\u001b[0m \u001b[0;34mf' Open-Source LLM ({CFG.model_name}) for Harry Potter Question Answering'\u001b[0m\u001b[0;34m\u001b[0m\u001b[0;34m\u001b[0m\u001b[0m\n\u001b[0m\u001b[1;32m     10\u001b[0m )\n\u001b[1;32m     11\u001b[0m \u001b[0;34m\u001b[0m\u001b[0m\n",
            "\u001b[0;31mNameError\u001b[0m: name 'CFG' is not defined"
          ]
        }
      ]
    },
    {
      "cell_type": "markdown",
      "source": [
        "# Conclusions\n",
        "\n",
        "    - Prompt engineering\n",
        "    - Bigger models\n",
        "    - Other models families\n",
        "    - Splitting: chunk size, overlap\n",
        "    - Search: Similarity, MMR, k\n",
        "    - Pipeline parameters (temperature, top_p, penalty)\n",
        "    - Embeddings function\n",
        "    - LLM parameters (max len)"
      ],
      "metadata": {
        "id": "YAVnp4D7JQcD"
      }
    }
  ]
}